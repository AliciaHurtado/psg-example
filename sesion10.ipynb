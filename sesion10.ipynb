{
 "cells": [
  {
   "cell_type": "code",
   "execution_count": null,
   "id": "abdfcab5",
   "metadata": {},
   "outputs": [],
   "source": [
    "#Mutable\n",
    "conjunto = {'🍕','🍔','🍟','🌭'}\n",
    "print(conjunto) # {'🍔', '🌭', '🍕', '🍟'}\n",
    "conjunto.add('🥗')\n",
    "print(conjunto)  # {'🍔', '🍕', '🥗', '🍟', '🌭'}\n",
    "#No Ordenados\n",
    "conjunto = {'🍕','🍔','🍟','🌭'}\n",
    "print(conjunto) # {'🍔', '🌭', '🍕', '🍟'}\n",
    "#No Indexados\n",
    "conjunto = {'🍕','🍔','🍟','🌭'}"
   ]
  },
  {
   "cell_type": "code",
   "execution_count": null,
   "id": "f75e2f9a",
   "metadata": {
    "lines_to_next_cell": 2
   },
   "outputs": [],
   "source": [
    "#No Duplicados\n",
    "conjunto = {'🍕','🍔','🍟','🌭','🍕','🍟'}\n",
    "print(conjunto) # {'🍕', '🍟', '🌭', '🍔'}"
   ]
  },
  {
   "cell_type": "code",
   "execution_count": null,
   "id": "b9f900aa",
   "metadata": {},
   "outputs": [],
   "source": [
    "#Conjunto de enteros\n",
    "print (\"Conjunto de enteros\")\n",
    "conjunto = {1, 2, 3, 4, 5}\n",
    "print(conjunto) \n",
    "print(type(conjunto))"
   ]
  },
  {
   "cell_type": "code",
   "execution_count": null,
   "id": "d3867df5",
   "metadata": {
    "lines_to_next_cell": 2
   },
   "outputs": [],
   "source": [
    "#Conjunto de cadenas\n",
    "print (\"Conjunto de cadenas\")\n",
    "conjunto = {'🍕','🍔','🍟','🌭'}\n",
    "print(conjunto)\n",
    "print(type(conjunto))"
   ]
  },
  {
   "cell_type": "code",
   "execution_count": null,
   "id": "98c57354",
   "metadata": {},
   "outputs": [],
   "source": [
    "#Conjunto Mixto\n",
    "print (\"Conjunto mixto\")\n",
    "conjunto = {1, True, 3.14, '☕'}\n",
    "print(conjunto)\n",
    "print(type(conjunto))"
   ]
  },
  {
   "cell_type": "code",
   "execution_count": null,
   "id": "1bd00685",
   "metadata": {},
   "outputs": [],
   "source": [
    "#Conjunto vacio\n",
    "print (\"Conjunto vacío\")\n",
    "conjunto = set()\n",
    "print(conjunto)\n",
    "print(type(conjunto))"
   ]
  },
  {
   "cell_type": "code",
   "execution_count": null,
   "id": "026892ec",
   "metadata": {},
   "outputs": [],
   "source": [
    "#Conjunto a partir de la cadena\n",
    "print (\"Conjunto a partir de la cadena\")\n",
    "cadena = 'Hola Mundo'\n",
    "conjunto = set(cadena)\n",
    "print(conjunto)\n",
    "print(type(conjunto))"
   ]
  },
  {
   "cell_type": "code",
   "execution_count": null,
   "id": "902c461e",
   "metadata": {},
   "outputs": [],
   "source": [
    "#Conjunto a partir de una tupla\n",
    "print (\"Conjunto a partir de una tupla\")\n",
    "tupla = (1, 2, 3, 4, 5, 5)\n",
    "conjunto = set(tupla)\n",
    "print(conjunto)\n",
    "print(type(conjunto))"
   ]
  },
  {
   "cell_type": "code",
   "execution_count": null,
   "id": "4ed5be20",
   "metadata": {},
   "outputs": [],
   "source": [
    "#Conjunto a partir de una lista\n",
    "print (\"Conjunto a partir de una lista\")\n",
    "lista = [True, False, 0, 1]\n",
    "conjunto = set(lista)\n",
    "print(conjunto)\n",
    "print(type(conjunto))"
   ]
  },
  {
   "cell_type": "code",
   "execution_count": null,
   "id": "725c1f83",
   "metadata": {
    "lines_to_next_cell": 2
   },
   "outputs": [],
   "source": [
    "#Conjunto por comprension\n",
    "print (\"Conjunto por comprensión\")\n",
    "conjunto = {x for x in '🍕🍔🍟🍕🍔🍟🍔🍟'}\n",
    "print(conjunto)\n",
    "print(type(conjunto))"
   ]
  },
  {
   "cell_type": "code",
   "execution_count": null,
   "id": "ea5844f7",
   "metadata": {},
   "outputs": [],
   "source": [
    "#Metodos de adicion\n",
    "#Metodo add\n",
    "print (\"Método add()\")\n",
    "conjunto = {'🍕','🍔','🍟','🌭'}\n",
    "print (conjunto)\n",
    "conjunto.add('🥗')\n",
    "print(conjunto) "
   ]
  },
  {
   "cell_type": "code",
   "execution_count": null,
   "id": "b809bebc",
   "metadata": {},
   "outputs": [],
   "source": [
    "#Update\n",
    "print (\"Método update()\")\n",
    "conjunto = {'🍕','🍔','🍟','🌭'}\n",
    "print (conjunto)\n",
    "conjunto.update(['🥤','🍦'])\n",
    "print(conjunto) \n",
    "conjunto.update('🍩🍪')\n",
    "print(conjunto) \n",
    "conjunto.update(('🍫','🍬'))\n",
    "print(conjunto)\n",
    "conjunto.update({'🍭','🍮'})\n",
    "print(conjunto)"
   ]
  },
  {
   "cell_type": "code",
   "execution_count": null,
   "id": "f48c37f2",
   "metadata": {},
   "outputs": [],
   "source": [
    "#Metodo de eliminacion\n",
    "print (\"Método remove()\")\n",
    "conjunto = {'🍕','🍔','🍟','🌭'} \n",
    "print (conjunto)\n",
    "conjunto.remove('🍔')\n",
    "print(conjunto)\n",
    "# conjunto.remove('🍔')\n",
    "# print(conjunto)\n",
    "# Key Error: '🍔'"
   ]
  },
  {
   "cell_type": "code",
   "execution_count": null,
   "id": "b5be8ec6",
   "metadata": {
    "lines_to_next_cell": 2
   },
   "outputs": [],
   "source": [
    "print (\"Método discard()\")\n",
    "conjunto = {'🍕','🍔','🍟','🌭'}\n",
    "print (conjunto)\n",
    "conjunto.discard('🍔')\n",
    "print(conjunto)\n",
    "conjunto.discard('🍔')\n",
    "print(conjunto)"
   ]
  },
  {
   "cell_type": "code",
   "execution_count": null,
   "id": "67936010",
   "metadata": {},
   "outputs": [],
   "source": [
    "print (\"Método pop()\")\n",
    "conjunto = {'🍕','🍔','🍟','🌭', '🥤','🍦'}\n",
    "print (conjunto)\n",
    "print(conjunto.pop())\n",
    "print(conjunto)\n",
    "print(conjunto.pop())\n",
    "print(conjunto)"
   ]
  },
  {
   "cell_type": "code",
   "execution_count": null,
   "id": "e1404216",
   "metadata": {
    "lines_to_next_cell": 2
   },
   "outputs": [],
   "source": [
    "print (\"Método clear()\")\n",
    "conjunto = {'🍕','🍔','🍟','🌭'}\n",
    "print (conjunto)\n",
    "conjunto.clear()\n",
    "print(conjunto)"
   ]
  },
  {
   "cell_type": "code",
   "execution_count": null,
   "id": "f4564b1e",
   "metadata": {
    "lines_to_next_cell": 2
   },
   "outputs": [],
   "source": [
    "print (\"Método union()\")\n",
    "conjunto1 = {'🍔','🍟', '🥤'}\n",
    "conjunto2 = {'🍕','🍨','🥤'}\n",
    "print (conjunto1, conjunto2)\n",
    "union = conjunto1.union(conjunto2)\n",
    "print(union)"
   ]
  },
  {
   "cell_type": "code",
   "execution_count": null,
   "id": "ab543029",
   "metadata": {},
   "outputs": [],
   "source": [
    "print (\"Método intersection()\")\n",
    "conjunto1 = {'🍔','🍟', '🥤'}\n",
    "conjunto2 = {'🍕','🍨','🥤'}\n",
    "print (conjunto1, conjunto2)\n",
    "interseccion = conjunto1.intersection(conjunto2)\n",
    "print(interseccion)"
   ]
  },
  {
   "cell_type": "code",
   "execution_count": null,
   "id": "e93b2e1f",
   "metadata": {},
   "outputs": [],
   "source": [
    "print (\"Método difference()\")\n",
    "conjunto1 = {'🍔','🍟', '🥤'}\n",
    "conjunto2 = {'🍕','🍨','🥤'}\n",
    "print (\"1:\",conjunto1, \"2:\",conjunto2)\n",
    "diferencia = conjunto1.difference(conjunto2)\n",
    "print(\"1 y 2:\",diferencia)\n",
    "diferencia = conjunto2.difference(conjunto1)\n",
    "print(\"2 y 1:\",diferencia)"
   ]
  },
  {
   "cell_type": "code",
   "execution_count": null,
   "id": "ea4afb8b",
   "metadata": {
    "lines_to_next_cell": 2
   },
   "outputs": [],
   "source": [
    "print (\"Método symmetric_difference()\")\n",
    "conjunto1 = {'🍔','🍟', '🥤'}\n",
    "conjunto2 = {'🍕','🍨','🥤'}\n",
    "print (conjunto1, conjunto2)\n",
    "diferencia_simetrica = conjunto1.symmetric_difference(conjunto2)\n",
    "print(diferencia_simetrica)"
   ]
  },
  {
   "cell_type": "code",
   "execution_count": null,
   "id": "98441490",
   "metadata": {},
   "outputs": [],
   "source": [
    "print (\"Método intersection_update()\")\n",
    "conjunto1 = {'🍔','🍟', '🥤'}\n",
    "conjunto2 = {'🍕','🍨','🥤'}\n",
    "print (conjunto1, conjunto2)\n",
    "conjunto1.intersection_update(conjunto2)\n",
    "print(conjunto1)"
   ]
  },
  {
   "cell_type": "code",
   "execution_count": null,
   "id": "4e9d7fa2",
   "metadata": {},
   "outputs": [],
   "source": [
    "print (\"Método difference_update()\")\n",
    "conjunto1 = {'🍔','🍟', '🥤'}\n",
    "conjunto2 = {'🍕','🍨','🥤'}\n",
    "print (\"1:\",conjunto1, \"2:\",conjunto2)\n",
    "conjunto1.difference_update(conjunto2)\n",
    "print (\"1:\",conjunto1, \"2:\",conjunto2)"
   ]
  },
  {
   "cell_type": "code",
   "execution_count": null,
   "id": "49e9679e",
   "metadata": {},
   "outputs": [],
   "source": [
    "print (\"Método symmetric_difference_update()\")\n",
    "conjunto1 = {'🍔','🍟', '🥤'}\n",
    "conjunto2 = {'🍕','🍨','🥤'}\n",
    "print (conjunto1, conjunto2)\n",
    "conjunto1.symmetric_difference_update(conjunto2)\n",
    "print(conjunto1)"
   ]
  },
  {
   "cell_type": "code",
   "execution_count": null,
   "id": "a719880a",
   "metadata": {
    "lines_to_next_cell": 2
   },
   "outputs": [],
   "source": [
    "print (\"Método issubset()\")\n",
    "conjunto1 = {'🍔','🍟', '🥤'}\n",
    "conjunto2 = {'🍕','🍨','🥤'}\n",
    "conjunto3 = {'🍔','🍟'}\n",
    "print (conjunto1, conjunto2,conjunto3)\n",
    "# ¿El conjunto1 es subconjunto del conjunto2?\n",
    "print(conjunto1.issubset(conjunto2))\n",
    "# ¿El conjunto3 es subconjunto del conjunto1?\n",
    "print(conjunto3.issubset(conjunto1))"
   ]
  },
  {
   "cell_type": "code",
   "execution_count": null,
   "id": "8a5e206e",
   "metadata": {},
   "outputs": [],
   "source": [
    "print (\"Método issuperset()\")\n",
    "conjunto1 = {'🍔','🍟', '🥤'}\n",
    "conjunto2 = {'🍕','🍨','🥤'}\n",
    "conjunto3 = {'🍔','🍟'}\n",
    "print (conjunto1, conjunto2,conjunto3)\n",
    "# ¿El conjunto1 es superconjunto del conjunto2?\n",
    "print(conjunto1.issuperset(conjunto2)) # C1 contiene a C2?\n",
    "# ¿El conjunto1 es superconjunto del conjunto2?\n",
    "print(conjunto1.issuperset(conjunto3)) # C1 contiene a C3?"
   ]
  },
  {
   "cell_type": "code",
   "execution_count": null,
   "id": "cd1fb123",
   "metadata": {},
   "outputs": [],
   "source": [
    "print (\"Método isdisjoint()\")\n",
    "conjunto1 = {'🍔','🍟', '🥤'}\n",
    "conjunto2 = {'🍕','🍨'}\n",
    "conjunto3 = {'🍔','🍟'}\n",
    "print (conjunto1, conjunto2,conjunto3)\n",
    "# ¿El conjunto1 no tiene elementos en común con el conjunto2?\n",
    "print(conjunto1.isdisjoint(conjunto2))\n",
    "# ¿El conjunto1 no tiene elementos en común con el conjunto3?\n",
    "print(conjunto1.isdisjoint(conjunto3))"
   ]
  },
  {
   "cell_type": "code",
   "execution_count": null,
   "id": "175a6359",
   "metadata": {},
   "outputs": [],
   "source": [
    "print (\"Asignación por referencia\")\n",
    "conjunto = {'🍕','🍔','🍟','🌭'}\n",
    "print (conjunto)\n",
    "copia = conjunto\n",
    "copia.add('🥗')\n",
    "print(conjunto)\n",
    "print(copia)"
   ]
  },
  {
   "cell_type": "code",
   "execution_count": null,
   "id": "6d1dd0e1",
   "metadata": {},
   "outputs": [],
   "source": [
    "print (\"Método copy()\")\n",
    "conjunto = {'🍕','🍔','🍟','🌭'}\n",
    "print (conjunto)\n",
    "copia = conjunto.copy()\n",
    "copia.add('🥗')\n",
    "print(conjunto)\n",
    "print(copia)"
   ]
  },
  {
   "cell_type": "code",
   "execution_count": null,
   "id": "43ed1337",
   "metadata": {},
   "outputs": [],
   "source": [
    "print (\"Función len()\")\n",
    "conjunto = {'🍕','🍔','🍟','🌭'}\n",
    "print (conjunto)\n",
    "print(len(conjunto))"
   ]
  },
  {
   "cell_type": "code",
   "execution_count": null,
   "id": "8ebe69cb",
   "metadata": {},
   "outputs": [],
   "source": [
    "print (\"Función max()\")\n",
    "conjunto = {1, 2, 3, 4, 5}\n",
    "print (conjunto)\n",
    "print (max(conjunto))\n",
    "conjunto = {'🍕','🍔','🍟','🌭'}\n",
    "print (conjunto)\n",
    "print(max(conjunto))"
   ]
  },
  {
   "cell_type": "code",
   "execution_count": null,
   "id": "d346b5f6",
   "metadata": {},
   "outputs": [],
   "source": [
    "print (\"Función min()\")\n",
    "conjunto = {1, 2, 3, 4, 5}\n",
    "print (conjunto)\n",
    "print (min(conjunto))\n",
    "conjunto = {'🍨','🍔','🍟','🍕'}\n",
    "print (conjunto)\n",
    "print(min(conjunto))"
   ]
  },
  {
   "cell_type": "code",
   "execution_count": null,
   "id": "abe06b90",
   "metadata": {},
   "outputs": [],
   "source": [
    "print (\"Función sum()\")\n",
    "conjunto = {1, 2, 3, 4, 5}\n",
    "print (conjunto)\n",
    "print (sum(conjunto))"
   ]
  },
  {
   "cell_type": "code",
   "execution_count": null,
   "id": "dd504954",
   "metadata": {},
   "outputs": [],
   "source": [
    "print (\"Operador |=\")\n",
    "conjunto1 = {'🍔','🍟', '🥤'}\n",
    "conjunto2 = {'🍕','🍨'}\n",
    "print (conjunto1, conjunto2)\n",
    "conjunto1 |= conjunto2\n",
    "print(conjunto1)"
   ]
  },
  {
   "cell_type": "code",
   "execution_count": null,
   "id": "30a3f6ec",
   "metadata": {},
   "outputs": [],
   "source": [
    "print (\"Operador ==\")\n",
    "conjunto1 = {'🍔','🍟', '🥤'}\n",
    "conjunto2 = {'🍔','🍟', '🥤'}\n",
    "conjunto3 = {'🍕','🍨'}\n",
    "print (conjunto1, conjunto2, conjunto3)\n",
    "print(conjunto1 == conjunto2)\n",
    "print(conjunto1 == conjunto3)"
   ]
  },
  {
   "cell_type": "code",
   "execution_count": null,
   "id": "7dce93a5",
   "metadata": {},
   "outputs": [],
   "source": [
    "print (\"Operador !=\")\n",
    "conjunto1 = {'🍔','🍟', '🥤'}\n",
    "conjunto2 = {'🍔','🍟', '🥤'}\n",
    "conjunto3 = {'🍕','🍨'}\n",
    "print (conjunto1, conjunto2, conjunto3)\n",
    "print(conjunto1 != conjunto2)\n",
    "print(conjunto1 != conjunto3)"
   ]
  },
  {
   "cell_type": "code",
   "execution_count": null,
   "id": "cc7d94f2",
   "metadata": {},
   "outputs": [],
   "source": [
    "print (\"Operador <\")\n",
    "conjunto1 = {'🍔','🍟'}\n",
    "conjunto2 = {'🍔','🍟', '🥤'}\n",
    "conjunto3 = {'🍕','🍨'}\n",
    "print (conjunto1, conjunto2, conjunto3)\n",
    "print(conjunto1 < conjunto2)\n",
    "print(conjunto1 < conjunto3)"
   ]
  },
  {
   "cell_type": "code",
   "execution_count": null,
   "id": "5742a480",
   "metadata": {
    "lines_to_next_cell": 2
   },
   "outputs": [],
   "source": [
    "print (\"Operador <=\")\n",
    "conjunto1 = {'🍔','🍟'}\n",
    "conjunto2 = {'🍔','🍟'}\n",
    "conjunto3 = {'🍕','🍨'}\n",
    "print (conjunto1, conjunto2, conjunto3)\n",
    "print(conjunto1 <= conjunto2)\n",
    "print(conjunto1 <= conjunto3)"
   ]
  },
  {
   "cell_type": "code",
   "execution_count": null,
   "id": "74c3a0ad",
   "metadata": {
    "lines_to_next_cell": 2
   },
   "outputs": [],
   "source": [
    "print (\"Operador >=\")\n",
    "conjunto1 = {'🍔','🍟'}\n",
    "conjunto2 = {'🍔','🍟'}\n",
    "conjunto3 = {'🍕','🍨'}\n",
    "print (conjunto1, conjunto2, conjunto3)\n",
    "print(conjunto1 >= conjunto2)\n",
    "print(conjunto1 >= conjunto3)"
   ]
  },
  {
   "cell_type": "code",
   "execution_count": null,
   "id": "13e1af16",
   "metadata": {},
   "outputs": [],
   "source": [
    "print (\"Operador |\")\n",
    "conjunto1 = {'🍔','🍟', '🥤'}\n",
    "conjunto2 = {'🍕','🍨','🥤'}\n",
    "print (conjunto1, conjunto2)\n",
    "union = conjunto1 | conjunto2\n",
    "print(union)"
   ]
  },
  {
   "cell_type": "code",
   "execution_count": null,
   "id": "3f01d58a",
   "metadata": {},
   "outputs": [],
   "source": [
    "print (\"Operador &\")\n",
    "conjunto1 = {'🍔','🍟', '🥤'}\n",
    "conjunto2 = {'🍕','🍨','🥤'}\n",
    "print (conjunto1, conjunto2)\n",
    "interseccion = conjunto1 & conjunto2\n",
    "print(interseccion)"
   ]
  },
  {
   "cell_type": "code",
   "execution_count": null,
   "id": "8d6a8662",
   "metadata": {},
   "outputs": [],
   "source": [
    "print (\"Operador -\")\n",
    "conjunto1 = {'🍔','🍟', '🥤'}\n",
    "conjunto2 = {'🍕','🍨','🥤'}\n",
    "print (\"1:\",conjunto1, \"2:\",conjunto2)\n",
    "diferencia = conjunto1 - conjunto2\n",
    "print(\"1 - 2:\",diferencia)\n",
    "diferencia = conjunto2 - conjunto1\n",
    "print(\"2 - 1:\",diferencia)"
   ]
  },
  {
   "cell_type": "code",
   "execution_count": null,
   "id": "6c2c0f7e",
   "metadata": {},
   "outputs": [],
   "source": [
    "print (\"Operador !=\")\n",
    "conjunto1 = {'🍔','🍟', '🥤'}\n",
    "conjunto2 = {'🍔','🍟', '🥤'}\n",
    "conjunto3 = {'🍕','🍨'}\n",
    "print (conjunto1, conjunto2, conjunto3)\n",
    "print(conjunto1 != conjunto2)\n",
    "print(conjunto1 != conjunto3)"
   ]
  },
  {
   "cell_type": "code",
   "execution_count": null,
   "id": "56afcde1",
   "metadata": {},
   "outputs": [],
   "source": [
    "print (\"Operador <\")\n",
    "conjunto1 = {'🍔','🍟'}\n",
    "conjunto2 = {'🍔','🍟', '🥤'}\n",
    "conjunto3 = {'🍕','🍨'}\n",
    "print (conjunto1, conjunto2, conjunto3)\n",
    "print(conjunto1 < conjunto2)\n",
    "print(conjunto1 < conjunto3)"
   ]
  },
  {
   "cell_type": "code",
   "execution_count": null,
   "id": "781ddbba",
   "metadata": {},
   "outputs": [],
   "source": [
    "print (\"Operador >\")\n",
    "conjunto1 = {'🍔','🍟','🥤','🍕'}\n",
    "conjunto2 = {'🍔','🍟', '🥤'}\n",
    "conjunto3 = {'🍕','🍨'}\n",
    "print (conjunto1, conjunto2, conjunto3)\n",
    "print(conjunto1 > conjunto2)\n",
    "print(conjunto1 > conjunto3)"
   ]
  },
  {
   "cell_type": "code",
   "execution_count": null,
   "id": "0bcc2d59",
   "metadata": {},
   "outputs": [],
   "source": [
    "print (\"Operador <=\")\n",
    "conjunto1 = {'🍔','🍟'}\n",
    "conjunto2 = {'🍔','🍟'}\n",
    "conjunto3 = {'🍕','🍨'}\n",
    "print (conjunto1, conjunto2, conjunto3)\n",
    "print(conjunto1 <= conjunto2)\n",
    "print(conjunto1 <= conjunto3)"
   ]
  },
  {
   "cell_type": "code",
   "execution_count": null,
   "id": "2898e653",
   "metadata": {},
   "outputs": [],
   "source": [
    "print (\"Operador >=\")\n",
    "conjunto1 = {'🍔','🍟'}\n",
    "conjunto2 = {'🍔','🍟'}\n",
    "conjunto3 = {'🍕','🍨'}\n",
    "print (conjunto1, conjunto2, conjunto3)\n",
    "print(conjunto1 >= conjunto2)\n",
    "print(conjunto1 >= conjunto3)"
   ]
  },
  {
   "cell_type": "code",
   "execution_count": null,
   "id": "fdd41270",
   "metadata": {},
   "outputs": [],
   "source": [
    "print (\"Operador |\")\n",
    "conjunto1 = {'🍔','🍟', '🥤'}\n",
    "conjunto2 = {'🍕','🍨','🥤'}\n",
    "print (conjunto1, conjunto2)\n",
    "union = conjunto1 | conjunto2\n",
    "print(union)"
   ]
  },
  {
   "cell_type": "code",
   "execution_count": null,
   "id": "9fce96a4",
   "metadata": {},
   "outputs": [],
   "source": [
    "print (\"Operador -\")\n",
    "conjunto1 = {'🍔','🍟', '🥤'}\n",
    "conjunto2 = {'🍕','🍨','🥤'}\n",
    "print (\"1:\",conjunto1, \"2:\",conjunto2)\n",
    "diferencia = conjunto1 - conjunto2\n",
    "print(\"1 - 2:\",diferencia)\n",
    "diferencia = conjunto2 - conjunto1\n",
    "print(\"2 - 1:\",diferencia)"
   ]
  },
  {
   "cell_type": "code",
   "execution_count": null,
   "id": "432964ed",
   "metadata": {},
   "outputs": [],
   "source": [
    "print (\"Operador ^\")\n",
    "conjunto1 = {'🍔','🍟', '🥤'}\n",
    "conjunto2 = {'🍕','🍨','🥤'}\n",
    "print (conjunto1, conjunto2)\n",
    "diferencia_simetrica = conjunto1 ^ conjunto2\n",
    "print(diferencia_simetrica)"
   ]
  },
  {
   "cell_type": "code",
   "execution_count": null,
   "id": "ede27096",
   "metadata": {},
   "outputs": [],
   "source": [
    "print (\"Operador |= Unión\")\n",
    "conjunto1 = {'🍔','🍟', '🥤'}\n",
    "conjunto2 = {'🍕','🍨','🥤'}\n",
    "print (conjunto1, conjunto2)\n",
    "conjunto1 |= conjunto2\n",
    "print(conjunto1)"
   ]
  },
  {
   "cell_type": "code",
   "execution_count": null,
   "id": "ff2ba909",
   "metadata": {},
   "outputs": [],
   "source": [
    "print (\"Operador &= Intersección\")\n",
    "conjunto1 = {'🍔','🍟', '🥤'}\n",
    "conjunto2 = {'🍕','🍨','🥤'}\n",
    "print (conjunto1, conjunto2)\n",
    "conjunto1 &= conjunto2\n",
    "print(conjunto1)"
   ]
  },
  {
   "cell_type": "code",
   "execution_count": null,
   "id": "e6960583",
   "metadata": {},
   "outputs": [],
   "source": [
    "print (\"Operador -= Diferencia\")\n",
    "conjunto1 = {'🍔','🍟', '🥤'}\n",
    "conjunto2 = {'🍕','🍨','🥤'}\n",
    "print (\"1:\",conjunto1, \"2:\",conjunto2)\n",
    "conjunto1 -= conjunto2\n",
    "print(\"1 - 2:\",conjunto1)\n",
    "conjunto1 = {'🍔','🍟', '🥤'}\n",
    "conjunto2 -= conjunto1\n",
    "print(\"2 - 1:\",conjunto2)"
   ]
  },
  {
   "cell_type": "code",
   "execution_count": null,
   "id": "83c35fbd",
   "metadata": {},
   "outputs": [],
   "source": [
    "print (\"Operador ^= Diferencia simétrica\")\n",
    "conjunto1 = {'🍔','🍟', '🥤'}\n",
    "conjunto2 = {'🍕','🍨','🥤'}\n",
    "print (conjunto1, conjunto2)\n",
    "conjunto1 ^= conjunto2\n",
    "print(conjunto1)"
   ]
  },
  {
   "cell_type": "code",
   "execution_count": null,
   "id": "5cc9d1ce",
   "metadata": {},
   "outputs": [],
   "source": [
    "conjunto = frozenset({'🍔','🍕','🥗','🍟','🌭'})\n",
    "print(conjunto)\n",
    "print(type(conjunto))"
   ]
  },
  {
   "cell_type": "code",
   "execution_count": null,
   "id": "09b10776",
   "metadata": {},
   "outputs": [],
   "source": [
    "print (\"Conjunto de conjuntos\")\n",
    "conjunto = {frozenset({'🍅','🍓','🍎'}), frozenset({'🍈','🍐','🍏'})}\n",
    "print(conjunto)\n",
    "print(type(conjunto))"
   ]
  },
  {
   "cell_type": "code",
   "execution_count": null,
   "id": "775f1046",
   "metadata": {},
   "outputs": [],
   "source": [
    "print (\"Conjunto de conjuntos\")\n",
    "conjunto = {{'🍅','🍓','🍎'}, {'🍈','🍐','🍏'}} #TypeError: unhashable type: 'set'\n",
    "print(conjunto)\n",
    "print(type(conjunto))"
   ]
  }
 ],
 "metadata": {
  "jupytext": {
   "cell_metadata_filter": "-all",
   "main_language": "python",
   "notebook_metadata_filter": "-all"
  }
 },
 "nbformat": 4,
 "nbformat_minor": 5
}

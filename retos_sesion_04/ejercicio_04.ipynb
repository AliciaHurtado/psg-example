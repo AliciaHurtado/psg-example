{
 "cells": [
  {
   "cell_type": "markdown",
   "id": "1e533b04",
   "metadata": {},
   "source": [
    "# UNO BESTIA 🐾\n",
    "Una versión **salvaje del clásico UNO**. En esta versión, los jugadores usan cartas de animales con poderes especiales para *atacar, esquivar y dominar el campo*. **¡Gana el jugador que se quede sin cartas o deje sin movimiento al rival!**"
   ]
  },
  {
   "cell_type": "markdown",
   "id": "ed0845bc",
   "metadata": {},
   "source": [
    "## Reglas del juego UNO BESTIA 🐾\n",
    "\n",
    "1. Cada jugador empieza con 6 cartas de animales.\n",
    "2. Las cartas tienen color y especie (ej: 🟥 León, 🟨 Serpiente).\n",
    "3. En tu turno puedes jugar una carta del mismo color o especie que la del centro.\n",
    "4. Si no puedes jugar, robas una carta de la pila salvaje 🐾.\n",
    "5. Cartas especiales:\n",
    "   - 🐍 Camuflaje (cambia el color actual)\n",
    "   - 🐘 Pisotón (obliga al rival a perder un turno)\n",
    "   - 🐅 Caza (roba una carta del rival)\n",
    "   - 🦅 Vuelo (puede jugarse sobre cualquier carta)\n",
    "6. Si un jugador queda con una sola carta, debe rugir \"¡BESTIA!\" o roba dos cartas.\n",
    "7. Gana el jugador que se quede sin cartas o el que deje sin cartas jugables al otro."
   ]
  },
  {
   "cell_type": "code",
   "execution_count": 1,
   "id": "e90bbe6a",
   "metadata": {},
   "outputs": [
    {
     "name": "stdout",
     "output_type": "stream",
     "text": [
      "┌────────────────────────────┐\n",
      "|       CAMPO DE BATALLA     |\n",
      "├────────────────────────────┤\n",
      "| Jugador 1: 🟥🟨🟩🟦🟨🟥        |\n",
      "| Jugador 2: 🟦🟥🟩🟨🟩🟦        |\n",
      "├────────────────────────────┤\n",
      "| Carta en juego:  🟩 🐅       |\n",
      "| Pila salvaje:    🐾         |\n",
      "└────────────────────────────┘\n"
     ]
    }
   ],
   "source": [
    "print(\"┌────────────────────────────┐\")\n",
    "print(\"|       CAMPO DE BATALLA     |\")\n",
    "print(\"├────────────────────────────┤\")\n",
    "print(\"| Jugador 1: 🟥🟨🟩🟦🟨🟥        |\")\n",
    "print(\"| Jugador 2: 🟦🟥🟩🟨🟩🟦        |\")\n",
    "print(\"├────────────────────────────┤\")\n",
    "print(\"| Carta en juego:  🟩 🐅       |\")\n",
    "print(\"| Pila salvaje:    🐾         |\")\n",
    "print(\"└────────────────────────────┘\")"
   ]
  },
  {
   "cell_type": "markdown",
   "id": "8a61aeb0",
   "metadata": {},
   "source": [
    "## Piezas del juego\n",
    "\n",
    "- Colores:\n",
    "  - 🟥 Rojo, 🟦 Azul, 🟩 Verde, 🟨 Amarillo\n",
    "- Especies:\n",
    "  - 🐅 Tigre: carta normal\n",
    "  - 🐘 Elefante: carta especial (pisotón)\n",
    "  - 🐍 Serpiente: carta especial (camuflaje)\n",
    "  - 🦅 Águila: carta comodín (vuelo)\n",
    "- 📦 Pila salvaje: mazo para robar cartas"
   ]
  },
  {
   "cell_type": "code",
   "execution_count": 2,
   "id": "bc61721e",
   "metadata": {},
   "outputs": [
    {
     "name": "stdout",
     "output_type": "stream",
     "text": [
      "🟥 🐅 → Tigre rojo: carta común\n",
      "🟨 🐘 → Elefante amarillo: pierde turno\n",
      "🟦 🐍 → Serpiente azul: cambia color\n",
      "🟩 🦅 → Águila verde: comodín universal\n",
      "🐾 → Pila salvaje para robar cartas\n"
     ]
    }
   ],
   "source": [
    "print(\"🟥 🐅 → Tigre rojo: carta común\")\n",
    "print(\"🟨 🐘 → Elefante amarillo: pierde turno\")\n",
    "print(\"🟦 🐍 → Serpiente azul: cambia color\")\n",
    "print(\"🟩 🦅 → Águila verde: comodín universal\")\n",
    "print(\"🐾 → Pila salvaje para robar cartas\")"
   ]
  }
 ],
 "metadata": {
  "kernelspec": {
   "display_name": "Python 3",
   "language": "python",
   "name": "python3"
  },
  "language_info": {
   "codemirror_mode": {
    "name": "ipython",
    "version": 3
   },
   "file_extension": ".py",
   "mimetype": "text/x-python",
   "name": "python",
   "nbconvert_exporter": "python",
   "pygments_lexer": "ipython3",
   "version": "3.13.3"
  }
 },
 "nbformat": 4,
 "nbformat_minor": 5
}

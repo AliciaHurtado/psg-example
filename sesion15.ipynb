{
 "cells": [
  {
   "cell_type": "markdown",
   "id": "7c30da30",
   "metadata": {},
   "source": [
    "TRY"
   ]
  },
  {
   "cell_type": "code",
   "execution_count": null,
   "id": "592c5319",
   "metadata": {},
   "outputs": [],
   "source": [
    "#Ejercicio 1, Crear un programa que solicite dos números y realice la división de ambos números Si hay un error mostrar un mensaje de error El programa se detiene si se ingresa \"salir\"\n",
    "while True:\n",
    "    try:\n",
    "        num1 = input(\"Ingrese el primer número: \")\n",
    "        if num1 == \"salir\":\n",
    "            break\n",
    "        num2 = input(\"Ingrese el segundo número: \")\n",
    "        if num2 == \"salir\":\n",
    "            break\n",
    "        num1 = float(num1)\n",
    "        num2 = float(num2)\n",
    "        print(\"Resultado:\", num1 / num2)\n",
    "    except Exception as e:\n",
    "        print(\"💀 Error:\", e)\n",
    "print (\"Inicio Ejemplo 2\")\n",
    "divisor = 0\n",
    "try:\n",
    "    x = 1 / divisor\n",
    "    print (x)\n",
    "except ZeroDivisionError as e:\n",
    "    print(\"0️⃣ Error:\", e, type(e))\n",
    "except Exception as e:\n",
    "    print(\"💀 Error:\", e, type(e))\n",
    "print (\"Fin Ejemplo 2\")\n",
    "print (\"Inicio Ejemplo 2\")\n",
    "divisor = \"0\"\n",
    "try:\n",
    "    x = 1 / divisor\n",
    "    print (x)\n",
    "except ZeroDivisionError as e:\n",
    "    print(\"0️⃣ Error:\", e, type(e))\n",
    "except Exception as e:\n",
    "    print(\"💀 Error:\", e, type(e))\n",
    "print (\"Fin Ejemplo 2\")\n",
    "print (\"Inicio Ejemplo 2\")\n",
    "divisor = 0\n",
    "try:\n",
    "    x = 1 / divisor\n",
    "    print (x)\n",
    "except Exception as e: # Captura cualquier excepción\n",
    "    print(\"💀 Error:\", e, type(e))\n",
    "except ZeroDivisionError as e:\n",
    "    print(\"0️⃣ Error:\", e, type(e))\n",
    "print (\"Fin Ejemplo 2\")"
   ]
  },
  {
   "cell_type": "code",
   "execution_count": 1,
   "id": "36dab825",
   "metadata": {},
   "outputs": [
    {
     "name": "stdout",
     "output_type": "stream",
     "text": [
      "🎭 Error: unsupported operand type(s) for +=: 'int' and 'str' <class 'TypeError'>\n",
      "💀 Error: list index out of range <class 'IndexError'>\n",
      "Promedio: 46.666666666666664\n"
     ]
    }
   ],
   "source": [
    "calificaciones = [20,40,80,\"A\"]\n",
    "suma = 0\n",
    "try:\n",
    "    for i in range(len(calificaciones)+1):\n",
    "        suma += calificaciones[i] \n",
    "    promedio = suma / len(calificaciones)\n",
    "    print(\"Promedio:\", promedio)\n",
    "except ZeroDivisionError as e:\n",
    "    print(\"0️⃣ Error:\", e, type(e))\n",
    "except TypeError as e:\n",
    "    print(\"🎭 Error:\", e, type(e))\n",
    "except Exception as e:\n",
    "    print(\"💀 Error:\", e, type(e))\n",
    "calificaciones = [20,40,80]\n",
    "suma = 0\n",
    "try:\n",
    "    for i in range(len(calificaciones)+1):\n",
    "        suma += calificaciones[i]\n",
    "    promedio = suma / len(calificaciones)\n",
    "    print(\"Promedio:\", promedio)\n",
    "except ZeroDivisionError as e:\n",
    "    print(\"0️⃣ Error:\", e, type(e))\n",
    "except TypeError as e:\n",
    "    print(\"🎭 Error:\", e, type(e))\n",
    "except Exception as e: # Captura cualquier excepción\n",
    "    print(\"💀 Error:\", e, type(e))\n",
    "calificaciones = [20,40,80]\n",
    "suma = 0\n",
    "try:\n",
    "    for i in range(len(calificaciones)):\n",
    "        suma += calificaciones[i] # suma = suma + calificaciones[i]\n",
    "    promedio = suma / len(calificaciones)\n",
    "    print(\"Promedio:\", promedio)\n",
    "except ZeroDivisionError as e:\n",
    "    print(\"0️⃣ Error:\", e, type(e))\n",
    "except TypeError as e:\n",
    "    print(\"🎭 Error:\", e, type(e))\n",
    "except Exception as e:\n",
    "    print(\"💀 Error:\", e, type(e))"
   ]
  },
  {
   "cell_type": "code",
   "execution_count": 2,
   "id": "5046f6af",
   "metadata": {
    "lines_to_next_cell": 1
   },
   "outputs": [
    {
     "name": "stdout",
     "output_type": "stream",
     "text": [
      "Inicio Ejemplo 4\n",
      "Promedio: 46.666666666666664\n",
      "🎉 Sin errores\n",
      "Fin Ejemplo 4\n"
     ]
    }
   ],
   "source": [
    "print (\"Inicio Ejemplo 4\")\n",
    "calificaciones = [20,40,80]\n",
    "suma = 0\n",
    "try:\n",
    "    for i in range(len(calificaciones)):\n",
    "        suma += calificaciones[i]\n",
    "    promedio = suma / len(calificaciones)\n",
    "    print(\"Promedio:\", promedio)\n",
    "except Exception as e:\n",
    "    print(\"💀 Error:\", e, type(e))\n",
    "else:\n",
    "    print (\"🎉 Sin errores\")\n",
    "print (\"Fin Ejemplo 4\")\n",
    "#Ejercicio 2, Crear un programa que solicite dos números y mediante una función devuelva la división de ambos\n",
    "def division(num1, num2):\n",
    "    return num1 / num2"
   ]
  },
  {
   "cell_type": "code",
   "execution_count": null,
   "id": "0884fda1",
   "metadata": {},
   "outputs": [],
   "source": [
    "while True:\n",
    "    try:\n",
    "        num1 = input(\"Ingrese el primer número: \")\n",
    "        if num1 == \"salir\":\n",
    "            break\n",
    "        num2 = input(\"Ingrese el segundo número: \")\n",
    "        if num2 == \"salir\":\n",
    "            break\n",
    "        num1 = float(num1)\n",
    "        num2 = float(num2)\n",
    "        resultado = division(num1, num2)\n",
    "    except Exception as e:\n",
    "        print(\"💀 Error:\", e)\n",
    "    else:\n",
    "        print(\"🎉 Resultado: \",resultado)\n",
    "print (\"Inicio Ejemplo 5\")\n",
    "try:\n",
    "    print(\"🔗 Ping...\")\n",
    "except Exception as e:\n",
    "    print(\"💀 Error:\", e)\n",
    "else:\n",
    "    print(\"🎉 Ping Exitoso\")\n",
    "finally:\n",
    "    print(\"🔌 Cerrando conexión\")\n",
    "print (\"Inicio Ejemplo 6\")\n",
    "try:\n",
    "    print(\"🔗 Ping...\")\n",
    "    raise Exception(\"Error de conexión\") #Excepción genérica\n",
    "except Exception as e: # Captura cualquier excepción\n",
    "    print(\"💀 Error:\", e)\n",
    "else:\n",
    "    print(\"🎉 Ping Exitoso\")\n",
    "finally:\n",
    "    print(\"🔌 Cerrando conexión\")\n",
    "#Ejercicio 3, Escriba un programa que solicite un número por teclado y se almacene en una lista\n",
    "numeros = []\n",
    "while True:\n",
    "    try:\n",
    "        num = input(\"Ingrese un número: \")\n",
    "        if num == \"salir\":\n",
    "            break\n",
    "        num = float(num)\n",
    "        if num == 0:\n",
    "            raise Exception(\"No se puede agregar el número 0\")\n",
    "        numeros.append(num)\n",
    "    except KeyboardInterrupt as e:\n",
    "        print('🚫 Para salir escriba \"salir\"')\n",
    "    except Exception as e:\n",
    "        print(\"💀 Error:\", e)\n",
    "    else:\n",
    "        print(\"🎉 Número agregado\")\n",
    "    finally:\n",
    "        print(\"Suma:\", sum(numeros))"
   ]
  },
  {
   "cell_type": "code",
   "execution_count": null,
   "id": "05d2c20d",
   "metadata": {
    "lines_to_next_cell": 1
   },
   "outputs": [],
   "source": [
    "print(\"Inicio Ejemplo 7\")\n",
    "def funcion():\n",
    "    pass"
   ]
  },
  {
   "cell_type": "code",
   "execution_count": null,
   "id": "d7bcaba1",
   "metadata": {},
   "outputs": [],
   "source": [
    "funcion()\n",
    "print(\"Fin Ejemplo 7\")"
   ]
  },
  {
   "cell_type": "code",
   "execution_count": null,
   "id": "3e159dc4",
   "metadata": {
    "lines_to_next_cell": 1
   },
   "outputs": [],
   "source": [
    "#Ejemplo 8, Tienes un frutero, saca las frutas mientras no sea un gusano y genera una excepción\n",
    "print(\"Inicio Ejemplo 8\")\n",
    "class GusanoError(Exception):\n",
    "    pass"
   ]
  },
  {
   "cell_type": "code",
   "execution_count": null,
   "id": "affffc74",
   "metadata": {
    "lines_to_next_cell": 1
   },
   "outputs": [],
   "source": [
    "frutero = ['🍎', '🍌', '🍐', '🐛', '🍇']\n",
    "for fruta in frutero:\n",
    "    try:\n",
    "        if fruta == '🐛':\n",
    "            raise GusanoError(\"😱 Ewww!\")\n",
    "        print(fruta)\n",
    "    except GusanoError as e:\n",
    "        print(\"🐛 Error:\", e)\n",
    "    except Exception as e:\n",
    "        print(\"💀 Error:\", e)\n",
    "print(\"Fin Ejemplo 8\")\n",
    "#Ejercicio 4, Crear un programa que solicite palabras por teclado y almacene en una lista\n",
    "class NoAlfabeticoError(Exception):\n",
    "    pass"
   ]
  },
  {
   "cell_type": "code",
   "execution_count": null,
   "id": "4747658b",
   "metadata": {
    "lines_to_next_cell": 2
   },
   "outputs": [],
   "source": [
    "palabras = []\n",
    "while True:\n",
    "    try:\n",
    "        palabra = input(\"Ingrese una palabra: \")\n",
    "        if palabra == \"salir\":\n",
    "            break\n",
    "        if not palabra.isalpha():\n",
    "            raise NoAlfabeticoError(\"Solo se permiten letras\")\n",
    "        palabras.append(palabra)\n",
    "    except NoAlfabeticoError as e:\n",
    "        print(\"🚫 Error:\", e)\n",
    "    except Exception as e:\n",
    "        print(\"💀 Error:\", e)\n",
    "    else:\n",
    "        print(\"🎉 Palabra agregada\")\n",
    "    finally:\n",
    "        print(\"Lista:\", palabras)"
   ]
  }
 ],
 "metadata": {
  "jupytext": {
   "cell_metadata_filter": "-all",
   "main_language": "python",
   "notebook_metadata_filter": "-all"
  },
  "kernelspec": {
   "display_name": "Python 3",
   "language": "python",
   "name": "python3"
  },
  "language_info": {
   "codemirror_mode": {
    "name": "ipython",
    "version": 3
   },
   "file_extension": ".py",
   "mimetype": "text/x-python",
   "name": "python",
   "nbconvert_exporter": "python",
   "pygments_lexer": "ipython3",
   "version": "3.13.3"
  }
 },
 "nbformat": 4,
 "nbformat_minor": 5
}

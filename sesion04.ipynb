{
 "cells": [
  {
   "cell_type": "code",
   "execution_count": 7,
   "id": "dd8b30a1",
   "metadata": {},
   "outputs": [
    {
     "name": "stdout",
     "output_type": "stream",
     "text": [
      "Hola, Mundo desde Notebook!\n",
      "     *\n",
      "    ***    \n",
      "   **  ** \n",
      "  ***  *** \n",
      " ***    *** \n",
      "    |   |   \n"
     ]
    }
   ],
   "source": [
    "# Code 01\n",
    "print (\"Hola, Mundo desde Notebook!\")\n",
    "# Mi Arbol\n",
    "print (\"     *\")\n",
    "print (\"    ***    \")\n",
    "print(\"   **  ** \")\n",
    "print(\"  ***  *** \")\n",
    "print(\" ***    *** \")\n",
    "print(\"    |   |   \")"
   ]
  },
  {
   "cell_type": "markdown",
   "id": "245f0d12",
   "metadata": {},
   "source": [
    "# Sesión 04\n",
    "- Mi primer notebook\n",
    "- Imprimir árbol\n",
    "- Crear Markdown\n",
    "- Subir a mi repositorio de GitHub\n",
    "- Dibujar un emoji 😎"
   ]
  }
 ],
 "metadata": {
  "kernelspec": {
   "display_name": "Python 3",
   "language": "python",
   "name": "python3"
  },
  "language_info": {
   "codemirror_mode": {
    "name": "ipython",
    "version": 3
   },
   "file_extension": ".py",
   "mimetype": "text/x-python",
   "name": "python",
   "nbconvert_exporter": "python",
   "pygments_lexer": "ipython3",
   "version": "3.13.3"
  }
 },
 "nbformat": 4,
 "nbformat_minor": 5
}
